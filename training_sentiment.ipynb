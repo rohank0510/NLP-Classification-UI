{
  "cells": [
    {
      "cell_type": "markdown",
      "metadata": {
        "id": "FTEw5lbndcAF"
      },
      "source": [
        "# Clear Output"
      ]
    },
    {
      "cell_type": "code",
      "execution_count": 1,
      "metadata": {
        "id": "oqaJLBWIddQs"
      },
      "outputs": [],
      "source": [
        "from IPython.display import clear_output"
      ]
    },
    {
      "cell_type": "markdown",
      "metadata": {
        "id": "Qarfl536TLhw"
      },
      "source": [
        "# Installing Transformers and Datasets from HuggingFace"
      ]
    },
    {
      "cell_type": "code",
      "execution_count": 2,
      "metadata": {
        "id": "EtKp3PwRyR5Y"
      },
      "outputs": [],
      "source": [
        "! pip install transformers datasets\n",
        "clear_output()"
      ]
    },
    {
      "cell_type": "markdown",
      "metadata": {
        "id": "CWq2Uk-iTOia"
      },
      "source": [
        "# Importing libraries"
      ]
    },
    {
      "cell_type": "code",
      "execution_count": 11,
      "metadata": {
        "id": "F2hqwP1hxvc-"
      },
      "outputs": [],
      "source": [
        "import torch\n",
        "from torch.utils.data import Dataset\n",
        "from transformers import DistilBertTokenizerFast,DistilBertForSequenceClassification, AutoTokenizer, AutoModelForTokenClassification, AutoModelForSequenceClassification\n",
        "from transformers import Trainer,TrainingArguments, pipeline\n",
        "import pandas as pd\n",
        "import numpy as np\n",
        "from sklearn.metrics import cohen_kappa_score\n",
        "from sklearn.model_selection import train_test_split\n"
      ]
    },
    {
      "cell_type": "code",
      "execution_count": 12,
      "metadata": {
        "id": "16htDkBZ0b2O"
      },
      "outputs": [],
      "source": [
        "df = pd.read_csv('news_data_ROW 1 - 1330.csv')"
      ]
    },
    {
      "cell_type": "code",
      "execution_count": 19,
      "metadata": {},
      "outputs": [],
      "source": [
        "df2 = df[['title', 'Sentimental Analysis' ]].dropna().rename(columns = {'title': 'text', 'Sentimental Analysis': 'score'})"
      ]
    },
    {
      "cell_type": "markdown",
      "metadata": {
        "id": "ObDWo4TzTh74"
      },
      "source": [
        "# Re-scale labelled sentiment to 0,1,2 which represents negative, neutral and positive."
      ]
    },
    {
      "cell_type": "code",
      "execution_count": 18,
      "metadata": {
        "id": "Mh-ogmh3buGR"
      },
      "outputs": [],
      "source": [
        "def change(x):\n",
        "    if x==0:\n",
        "        return 1\n",
        "    if x==-1:\n",
        "        return 0\n",
        "    if x==1:\n",
        "        return 2"
      ]
    },
    {
      "cell_type": "markdown",
      "metadata": {
        "id": "8nhvAi-HT3aQ"
      },
      "source": [
        "Manually labelled dataset"
      ]
    },
    {
      "cell_type": "code",
      "execution_count": 20,
      "metadata": {
        "colab": {
          "base_uri": "https://localhost:8080/",
          "height": 206
        },
        "id": "1AdAyD6yb4Wx",
        "outputId": "fc46d61e-8046-4189-e6c1-b3e6b591d156"
      },
      "outputs": [
        {
          "data": {
            "text/html": [
              "<div>\n",
              "<style scoped>\n",
              "    .dataframe tbody tr th:only-of-type {\n",
              "        vertical-align: middle;\n",
              "    }\n",
              "\n",
              "    .dataframe tbody tr th {\n",
              "        vertical-align: top;\n",
              "    }\n",
              "\n",
              "    .dataframe thead th {\n",
              "        text-align: right;\n",
              "    }\n",
              "</style>\n",
              "<table border=\"1\" class=\"dataframe\">\n",
              "  <thead>\n",
              "    <tr style=\"text-align: right;\">\n",
              "      <th></th>\n",
              "      <th>text</th>\n",
              "      <th>score</th>\n",
              "    </tr>\n",
              "  </thead>\n",
              "  <tbody>\n",
              "    <tr>\n",
              "      <th>0</th>\n",
              "      <td>Cloverleaf Networks Acquires Ryver to Enhance ...</td>\n",
              "      <td>1</td>\n",
              "    </tr>\n",
              "    <tr>\n",
              "      <th>1</th>\n",
              "      <td>Ingalls Shipbuilding Successfully Completes Ac...</td>\n",
              "      <td>1</td>\n",
              "    </tr>\n",
              "    <tr>\n",
              "      <th>2</th>\n",
              "      <td>STONERIDGE, INC. TO BROADCAST ITS THIRD-QUARTE...</td>\n",
              "      <td>1</td>\n",
              "    </tr>\n",
              "    <tr>\n",
              "      <th>3</th>\n",
              "      <td>Volatile Brazil Is Lone Bull Case for Bruised ...</td>\n",
              "      <td>2</td>\n",
              "    </tr>\n",
              "    <tr>\n",
              "      <th>4</th>\n",
              "      <td>Civitas Resources (CIVI) Gains But Lags Market...</td>\n",
              "      <td>2</td>\n",
              "    </tr>\n",
              "  </tbody>\n",
              "</table>\n",
              "</div>"
            ],
            "text/plain": [
              "                                                text  score\n",
              "0  Cloverleaf Networks Acquires Ryver to Enhance ...      1\n",
              "1  Ingalls Shipbuilding Successfully Completes Ac...      1\n",
              "2  STONERIDGE, INC. TO BROADCAST ITS THIRD-QUARTE...      1\n",
              "3  Volatile Brazil Is Lone Bull Case for Bruised ...      2\n",
              "4  Civitas Resources (CIVI) Gains But Lags Market...      2"
            ]
          },
          "execution_count": 20,
          "metadata": {},
          "output_type": "execute_result"
        }
      ],
      "source": [
        "df2['score'] = df2.score.apply(change)\n",
        "df2.head()"
      ]
    },
    {
      "cell_type": "markdown",
      "metadata": {
        "id": "rpkrrRX1T-KQ"
      },
      "source": [
        "Split to Train-Test set just for manual dataset"
      ]
    },
    {
      "cell_type": "code",
      "execution_count": 21,
      "metadata": {
        "colab": {
          "base_uri": "https://localhost:8080/",
          "height": 287
        },
        "id": "AINY1i5ab8SZ",
        "outputId": "4cb488c3-a16e-4eea-f0c2-ddd86ee3e828"
      },
      "outputs": [],
      "source": [
        "X_train, X_test, y_train, y_test = train_test_split(df2.text, df2.score, test_size=0.2, random_state=42)"
      ]
    },
    {
      "cell_type": "markdown",
      "metadata": {
        "id": "X3IhIeiU6IA6"
      },
      "source": [
        "# Labelled Financial News from Huggingface"
      ]
    },
    {
      "cell_type": "code",
      "execution_count": 26,
      "metadata": {},
      "outputs": [],
      "source": [
        "from datasets import load_dataset\n",
        "dataset = load_dataset('financial_phrasebank', 'sentences_50agree')"
      ]
    },
    {
      "cell_type": "code",
      "execution_count": 32,
      "metadata": {},
      "outputs": [],
      "source": [
        "pdf = pd.DataFrame(dataset['train'])"
      ]
    },
    {
      "cell_type": "code",
      "execution_count": 33,
      "metadata": {},
      "outputs": [
        {
          "data": {
            "text/html": [
              "<div>\n",
              "<style scoped>\n",
              "    .dataframe tbody tr th:only-of-type {\n",
              "        vertical-align: middle;\n",
              "    }\n",
              "\n",
              "    .dataframe tbody tr th {\n",
              "        vertical-align: top;\n",
              "    }\n",
              "\n",
              "    .dataframe thead th {\n",
              "        text-align: right;\n",
              "    }\n",
              "</style>\n",
              "<table border=\"1\" class=\"dataframe\">\n",
              "  <thead>\n",
              "    <tr style=\"text-align: right;\">\n",
              "      <th></th>\n",
              "      <th>sentence</th>\n",
              "      <th>label</th>\n",
              "    </tr>\n",
              "  </thead>\n",
              "  <tbody>\n",
              "    <tr>\n",
              "      <th>0</th>\n",
              "      <td>According to Gran , the company has no plans t...</td>\n",
              "      <td>1</td>\n",
              "    </tr>\n",
              "    <tr>\n",
              "      <th>1</th>\n",
              "      <td>Technopolis plans to develop in stages an area...</td>\n",
              "      <td>1</td>\n",
              "    </tr>\n",
              "    <tr>\n",
              "      <th>2</th>\n",
              "      <td>The international electronic industry company ...</td>\n",
              "      <td>0</td>\n",
              "    </tr>\n",
              "    <tr>\n",
              "      <th>3</th>\n",
              "      <td>With the new production plant the company woul...</td>\n",
              "      <td>2</td>\n",
              "    </tr>\n",
              "    <tr>\n",
              "      <th>4</th>\n",
              "      <td>According to the company 's updated strategy f...</td>\n",
              "      <td>2</td>\n",
              "    </tr>\n",
              "    <tr>\n",
              "      <th>...</th>\n",
              "      <td>...</td>\n",
              "      <td>...</td>\n",
              "    </tr>\n",
              "    <tr>\n",
              "      <th>4841</th>\n",
              "      <td>LONDON MarketWatch -- Share prices ended lower...</td>\n",
              "      <td>0</td>\n",
              "    </tr>\n",
              "    <tr>\n",
              "      <th>4842</th>\n",
              "      <td>Rinkuskiai 's beer sales fell by 6.5 per cent ...</td>\n",
              "      <td>1</td>\n",
              "    </tr>\n",
              "    <tr>\n",
              "      <th>4843</th>\n",
              "      <td>Operating profit fell to EUR 35.4 mn from EUR ...</td>\n",
              "      <td>0</td>\n",
              "    </tr>\n",
              "    <tr>\n",
              "      <th>4844</th>\n",
              "      <td>Net sales of the Paper segment decreased to EU...</td>\n",
              "      <td>0</td>\n",
              "    </tr>\n",
              "    <tr>\n",
              "      <th>4845</th>\n",
              "      <td>Sales in Finland decreased by 10.5 % in Januar...</td>\n",
              "      <td>0</td>\n",
              "    </tr>\n",
              "  </tbody>\n",
              "</table>\n",
              "<p>4846 rows × 2 columns</p>\n",
              "</div>"
            ],
            "text/plain": [
              "                                               sentence  label\n",
              "0     According to Gran , the company has no plans t...      1\n",
              "1     Technopolis plans to develop in stages an area...      1\n",
              "2     The international electronic industry company ...      0\n",
              "3     With the new production plant the company woul...      2\n",
              "4     According to the company 's updated strategy f...      2\n",
              "...                                                 ...    ...\n",
              "4841  LONDON MarketWatch -- Share prices ended lower...      0\n",
              "4842  Rinkuskiai 's beer sales fell by 6.5 per cent ...      1\n",
              "4843  Operating profit fell to EUR 35.4 mn from EUR ...      0\n",
              "4844  Net sales of the Paper segment decreased to EU...      0\n",
              "4845  Sales in Finland decreased by 10.5 % in Januar...      0\n",
              "\n",
              "[4846 rows x 2 columns]"
            ]
          },
          "execution_count": 33,
          "metadata": {},
          "output_type": "execute_result"
        }
      ],
      "source": [
        "pdf"
      ]
    },
    {
      "cell_type": "markdown",
      "metadata": {
        "id": "htdbC2htWIK0"
      },
      "source": [
        "Append the manual labelled dataset"
      ]
    },
    {
      "cell_type": "code",
      "execution_count": 34,
      "metadata": {
        "colab": {
          "base_uri": "https://localhost:8080/",
          "height": 424
        },
        "id": "WyLN557H9-mS",
        "outputId": "592e5da3-a359-4500-9293-6e8c16abd032"
      },
      "outputs": [
        {
          "name": "stderr",
          "output_type": "stream",
          "text": [
            "/var/folders/b1/0fd1b6hs7lz0fm_mh346lybm0000gn/T/ipykernel_90568/1819253798.py:1: FutureWarning: The frame.append method is deprecated and will be removed from pandas in a future version. Use pandas.concat instead.\n",
            "  df3 = df2[['text','score']].append(pdf.rename(columns = {'sentence':'text', 'label':'score'}))\n"
          ]
        }
      ],
      "source": [
        "df3 = df2[['text','score']].append(pdf.rename(columns = {'sentence':'text', 'label':'score'}))"
      ]
    },
    {
      "cell_type": "code",
      "execution_count": 35,
      "metadata": {},
      "outputs": [
        {
          "data": {
            "text/html": [
              "<div>\n",
              "<style scoped>\n",
              "    .dataframe tbody tr th:only-of-type {\n",
              "        vertical-align: middle;\n",
              "    }\n",
              "\n",
              "    .dataframe tbody tr th {\n",
              "        vertical-align: top;\n",
              "    }\n",
              "\n",
              "    .dataframe thead th {\n",
              "        text-align: right;\n",
              "    }\n",
              "</style>\n",
              "<table border=\"1\" class=\"dataframe\">\n",
              "  <thead>\n",
              "    <tr style=\"text-align: right;\">\n",
              "      <th></th>\n",
              "      <th>text</th>\n",
              "      <th>score</th>\n",
              "    </tr>\n",
              "  </thead>\n",
              "  <tbody>\n",
              "    <tr>\n",
              "      <th>0</th>\n",
              "      <td>Cloverleaf Networks Acquires Ryver to Enhance ...</td>\n",
              "      <td>1</td>\n",
              "    </tr>\n",
              "    <tr>\n",
              "      <th>1</th>\n",
              "      <td>Ingalls Shipbuilding Successfully Completes Ac...</td>\n",
              "      <td>1</td>\n",
              "    </tr>\n",
              "    <tr>\n",
              "      <th>2</th>\n",
              "      <td>STONERIDGE, INC. TO BROADCAST ITS THIRD-QUARTE...</td>\n",
              "      <td>1</td>\n",
              "    </tr>\n",
              "    <tr>\n",
              "      <th>3</th>\n",
              "      <td>Volatile Brazil Is Lone Bull Case for Bruised ...</td>\n",
              "      <td>2</td>\n",
              "    </tr>\n",
              "    <tr>\n",
              "      <th>4</th>\n",
              "      <td>Civitas Resources (CIVI) Gains But Lags Market...</td>\n",
              "      <td>2</td>\n",
              "    </tr>\n",
              "    <tr>\n",
              "      <th>...</th>\n",
              "      <td>...</td>\n",
              "      <td>...</td>\n",
              "    </tr>\n",
              "    <tr>\n",
              "      <th>4841</th>\n",
              "      <td>LONDON MarketWatch -- Share prices ended lower...</td>\n",
              "      <td>0</td>\n",
              "    </tr>\n",
              "    <tr>\n",
              "      <th>4842</th>\n",
              "      <td>Rinkuskiai 's beer sales fell by 6.5 per cent ...</td>\n",
              "      <td>1</td>\n",
              "    </tr>\n",
              "    <tr>\n",
              "      <th>4843</th>\n",
              "      <td>Operating profit fell to EUR 35.4 mn from EUR ...</td>\n",
              "      <td>0</td>\n",
              "    </tr>\n",
              "    <tr>\n",
              "      <th>4844</th>\n",
              "      <td>Net sales of the Paper segment decreased to EU...</td>\n",
              "      <td>0</td>\n",
              "    </tr>\n",
              "    <tr>\n",
              "      <th>4845</th>\n",
              "      <td>Sales in Finland decreased by 10.5 % in Januar...</td>\n",
              "      <td>0</td>\n",
              "    </tr>\n",
              "  </tbody>\n",
              "</table>\n",
              "<p>6175 rows × 2 columns</p>\n",
              "</div>"
            ],
            "text/plain": [
              "                                                   text  score\n",
              "0     Cloverleaf Networks Acquires Ryver to Enhance ...      1\n",
              "1     Ingalls Shipbuilding Successfully Completes Ac...      1\n",
              "2     STONERIDGE, INC. TO BROADCAST ITS THIRD-QUARTE...      1\n",
              "3     Volatile Brazil Is Lone Bull Case for Bruised ...      2\n",
              "4     Civitas Resources (CIVI) Gains But Lags Market...      2\n",
              "...                                                 ...    ...\n",
              "4841  LONDON MarketWatch -- Share prices ended lower...      0\n",
              "4842  Rinkuskiai 's beer sales fell by 6.5 per cent ...      1\n",
              "4843  Operating profit fell to EUR 35.4 mn from EUR ...      0\n",
              "4844  Net sales of the Paper segment decreased to EU...      0\n",
              "4845  Sales in Finland decreased by 10.5 % in Januar...      0\n",
              "\n",
              "[6175 rows x 2 columns]"
            ]
          },
          "execution_count": 35,
          "metadata": {},
          "output_type": "execute_result"
        }
      ],
      "source": [
        "df3"
      ]
    },
    {
      "cell_type": "markdown",
      "metadata": {
        "id": "Bza2jwSgWK84"
      },
      "source": [
        "Split into train-test sets"
      ]
    },
    {
      "cell_type": "code",
      "execution_count": 36,
      "metadata": {
        "id": "lQXdwx-m97Zy"
      },
      "outputs": [],
      "source": [
        "X_train, X_test, y_train, y_test = train_test_split(df3.text, df3.score, test_size=0.2, random_state=42)"
      ]
    },
    {
      "cell_type": "markdown",
      "metadata": {
        "id": "Zed_X8OZP754"
      },
      "source": [
        "# Sentiment-Analysis "
      ]
    },
    {
      "cell_type": "markdown",
      "metadata": {
        "id": "J2F0WxBxZTtm"
      },
      "source": [
        "Name of our model"
      ]
    },
    {
      "cell_type": "code",
      "execution_count": 37,
      "metadata": {
        "id": "XDy9LnSSNCWB"
      },
      "outputs": [],
      "source": [
        "model_name = 'distilbert-base-uncased'"
      ]
    },
    {
      "cell_type": "markdown",
      "metadata": {
        "id": "9eG5mYMoZZcM"
      },
      "source": [
        "Loading Tokenizer from pretrained DistilBERT and define number of label and the droupout rate"
      ]
    },
    {
      "cell_type": "code",
      "execution_count": 38,
      "metadata": {
        "colab": {
          "base_uri": "https://localhost:8080/"
        },
        "id": "ft29ffFHNH77",
        "outputId": "55103d3d-64ff-4864-f404-0feb88cc617d"
      },
      "outputs": [
        {
          "data": {
            "application/vnd.jupyter.widget-view+json": {
              "model_id": "cf3b42090838473c96430274b646be71",
              "version_major": 2,
              "version_minor": 0
            },
            "text/plain": [
              "Downloading:   0%|          | 0.00/28.0 [00:00<?, ?B/s]"
            ]
          },
          "metadata": {},
          "output_type": "display_data"
        },
        {
          "data": {
            "application/vnd.jupyter.widget-view+json": {
              "model_id": "d090c5362c9e449cb0b4f93f4c04455a",
              "version_major": 2,
              "version_minor": 0
            },
            "text/plain": [
              "Downloading:   0%|          | 0.00/232k [00:00<?, ?B/s]"
            ]
          },
          "metadata": {},
          "output_type": "display_data"
        },
        {
          "data": {
            "application/vnd.jupyter.widget-view+json": {
              "model_id": "462768c631f54214b569b4f3825d2766",
              "version_major": 2,
              "version_minor": 0
            },
            "text/plain": [
              "Downloading:   0%|          | 0.00/466k [00:00<?, ?B/s]"
            ]
          },
          "metadata": {},
          "output_type": "display_data"
        },
        {
          "data": {
            "application/vnd.jupyter.widget-view+json": {
              "model_id": "441e80665943409893fc66f37b0e3709",
              "version_major": 2,
              "version_minor": 0
            },
            "text/plain": [
              "Downloading:   0%|          | 0.00/483 [00:00<?, ?B/s]"
            ]
          },
          "metadata": {},
          "output_type": "display_data"
        }
      ],
      "source": [
        "model_name = 'distilbert-base-uncased'\n",
        "tokenizer = DistilBertTokenizerFast.from_pretrained('distilbert-base-uncased',num_labels=3, dropout=0.5, attention_dropout=0.5)"
      ]
    },
    {
      "cell_type": "markdown",
      "metadata": {
        "id": "M7AuezrAZiNQ"
      },
      "source": [
        "Encoding the input datatset to vectors"
      ]
    },
    {
      "cell_type": "code",
      "execution_count": 39,
      "metadata": {
        "id": "CeyosUjfNKL7"
      },
      "outputs": [],
      "source": [
        "model_name = 'distilbert-base-uncased'\n",
        "tokenizer = DistilBertTokenizerFast.from_pretrained('distilbert-base-uncased',num_labels=3, dropout=0.5, attention_dropout=0.5)\n",
        "train_encodings = tokenizer(X_train.to_list(), truncation=True, padding=True,return_tensors = 'pt')\n",
        "val_encodings = tokenizer(X_test.to_list(), truncation=True, padding=True,return_tensors = 'pt')"
      ]
    },
    {
      "cell_type": "markdown",
      "metadata": {
        "id": "2NldJBUdZnn3"
      },
      "source": [
        "Defining class Dataset which PyTorch requires"
      ]
    },
    {
      "cell_type": "code",
      "execution_count": 40,
      "metadata": {
        "id": "uvkn9ptsNobi"
      },
      "outputs": [],
      "source": [
        "class SentimentDataset(torch.utils.data.Dataset):\n",
        "    def __init__(self, encodings, labels):\n",
        "        self.encodings = encodings\n",
        "        self.labels = labels\n",
        "\n",
        "    def __getitem__(self, idx):\n",
        "        item = {key: torch.tensor(val[idx]) for key, val in self.encodings.items()}\n",
        "        item['labels'] = torch.tensor(self.labels[idx])\n",
        "        return item\n",
        "\n",
        "    def __len__(self):\n",
        "        return len(self.labels)"
      ]
    },
    {
      "cell_type": "code",
      "execution_count": 41,
      "metadata": {
        "id": "kv2mPDGWNyNk"
      },
      "outputs": [],
      "source": [
        "train_dataset = SentimentDataset(train_encodings, y_train.to_list())\n",
        "val_dataset = SentimentDataset(val_encodings, y_test.to_list())"
      ]
    },
    {
      "cell_type": "markdown",
      "metadata": {
        "id": "euWZZNlIZszZ"
      },
      "source": [
        "Hyper-parameters"
      ]
    },
    {
      "cell_type": "code",
      "execution_count": 46,
      "metadata": {
        "colab": {
          "base_uri": "https://localhost:8080/"
        },
        "id": "p_ftCOe8N1sd",
        "outputId": "4920b7a9-611a-4a0b-9f32-431fb9daa7ee"
      },
      "outputs": [
        {
          "name": "stderr",
          "output_type": "stream",
          "text": [
            "using `logging_steps` to initialize `eval_steps` to 50\n",
            "PyTorch: setting up devices\n",
            "The default value for the training argument `--report_to` will change in v5 (from all installed integrations to none). In v5, you will need to use `--report_to all` to get the same behavior as now. You should start updating your code and make this info disappear :-).\n"
          ]
        }
      ],
      "source": [
        "training_args = TrainingArguments(\n",
        "    output_dir='training',          # output directory\n",
        "    evaluation_strategy=\"steps\",\n",
        "    num_train_epochs=10,              # total number of training epochs\n",
        "    per_device_train_batch_size=32,  # batch size per device during training\n",
        "    per_device_eval_batch_size=64,   # batch size for evaluation\n",
        "    warmup_steps=500,                # number of warmup steps for learning rate scheduler\n",
        "    weight_decay=0.01,               # strength of weight decay\n",
        "    logging_dir='./logs4',            # directory for storing logs\n",
        "    logging_steps=50,\n",
        "    load_best_model_at_end=True,\n",
        ")"
      ]
    },
    {
      "cell_type": "markdown",
      "metadata": {
        "id": "-fN9NFWsZ1dY"
      },
      "source": [
        "Define a custom computer metrics to get Accuracy and f1_score during the training"
      ]
    },
    {
      "cell_type": "code",
      "execution_count": 47,
      "metadata": {
        "id": "GBNXbxX0N0ZB"
      },
      "outputs": [],
      "source": [
        "from sklearn.metrics import accuracy_score, f1_score\n",
        "def compute_metrics(p):\n",
        "    pred, labels = p\n",
        "    pred = np.argmax(pred, axis=1)\n",
        "\n",
        "    accuracy = accuracy_score(y_true=labels, y_pred=pred)\n",
        "    #recall = recall_score(y_true=labels, y_pred=pred)\n",
        "    #precision = precision_score(y_true=labels, y_pred=pred)\n",
        "    f1 = f1_score(labels, pred, average='weighted')\n",
        "\n",
        "    return {\"accuracy\": accuracy,\"f1_score\":f1}"
      ]
    },
    {
      "cell_type": "markdown",
      "metadata": {
        "id": "rI1Egq54Z6fh"
      },
      "source": [
        "Instantiate the model and start training"
      ]
    },
    {
      "cell_type": "code",
      "execution_count": 48,
      "metadata": {
        "colab": {
          "base_uri": "https://localhost:8080/",
          "height": 1000
        },
        "id": "5qrMs3T5N33g",
        "outputId": "ff709f79-0ec0-4887-c9e3-c0b4bf82d969"
      },
      "outputs": [
        {
          "name": "stderr",
          "output_type": "stream",
          "text": [
            "loading configuration file config.json from cache at /Users/bytedance/.cache/huggingface/hub/models--distilbert-base-uncased/snapshots/043235d6088ecd3dd5fb5ca3592b6913fd516027/config.json\n",
            "Model config DistilBertConfig {\n",
            "  \"activation\": \"gelu\",\n",
            "  \"architectures\": [\n",
            "    \"DistilBertForMaskedLM\"\n",
            "  ],\n",
            "  \"attention_dropout\": 0.5,\n",
            "  \"dim\": 768,\n",
            "  \"dropout\": 0.5,\n",
            "  \"hidden_dim\": 3072,\n",
            "  \"id2label\": {\n",
            "    \"0\": \"LABEL_0\",\n",
            "    \"1\": \"LABEL_1\",\n",
            "    \"2\": \"LABEL_2\"\n",
            "  },\n",
            "  \"initializer_range\": 0.02,\n",
            "  \"label2id\": {\n",
            "    \"LABEL_0\": 0,\n",
            "    \"LABEL_1\": 1,\n",
            "    \"LABEL_2\": 2\n",
            "  },\n",
            "  \"max_position_embeddings\": 512,\n",
            "  \"model_type\": \"distilbert\",\n",
            "  \"n_heads\": 12,\n",
            "  \"n_layers\": 6,\n",
            "  \"pad_token_id\": 0,\n",
            "  \"qa_dropout\": 0.1,\n",
            "  \"seq_classif_dropout\": 0.2,\n",
            "  \"sinusoidal_pos_embds\": false,\n",
            "  \"tie_weights_\": true,\n",
            "  \"transformers_version\": \"4.23.1\",\n",
            "  \"vocab_size\": 30522\n",
            "}\n",
            "\n",
            "loading weights file pytorch_model.bin from cache at /Users/bytedance/.cache/huggingface/hub/models--distilbert-base-uncased/snapshots/043235d6088ecd3dd5fb5ca3592b6913fd516027/pytorch_model.bin\n",
            "Some weights of the model checkpoint at distilbert-base-uncased were not used when initializing DistilBertForSequenceClassification: ['vocab_layer_norm.weight', 'vocab_projector.weight', 'vocab_projector.bias', 'vocab_layer_norm.bias', 'vocab_transform.weight', 'vocab_transform.bias']\n",
            "- This IS expected if you are initializing DistilBertForSequenceClassification from the checkpoint of a model trained on another task or with another architecture (e.g. initializing a BertForSequenceClassification model from a BertForPreTraining model).\n",
            "- This IS NOT expected if you are initializing DistilBertForSequenceClassification from the checkpoint of a model that you expect to be exactly identical (initializing a BertForSequenceClassification model from a BertForSequenceClassification model).\n",
            "Some weights of DistilBertForSequenceClassification were not initialized from the model checkpoint at distilbert-base-uncased and are newly initialized: ['classifier.weight', 'pre_classifier.bias', 'pre_classifier.weight', 'classifier.bias']\n",
            "You should probably TRAIN this model on a down-stream task to be able to use it for predictions and inference.\n",
            "/Users/bytedance/Library/Python/3.9/lib/python/site-packages/transformers/optimization.py:306: FutureWarning: This implementation of AdamW is deprecated and will be removed in a future version. Use the PyTorch implementation torch.optim.AdamW instead, or set `no_deprecation_warning=True` to disable this warning\n",
            "  warnings.warn(\n",
            "***** Running training *****\n",
            "  Num examples = 4940\n",
            "  Num Epochs = 10\n",
            "  Instantaneous batch size per device = 32\n",
            "  Total train batch size (w. parallel, distributed & accumulation) = 32\n",
            "  Gradient Accumulation steps = 1\n",
            "  Total optimization steps = 1550\n"
          ]
        },
        {
          "data": {
            "application/vnd.jupyter.widget-view+json": {
              "model_id": "3daf7fc2b75e471bb28b182ec40c77c6",
              "version_major": 2,
              "version_minor": 0
            },
            "text/plain": [
              "  0%|          | 0/1550 [00:00<?, ?it/s]"
            ]
          },
          "metadata": {},
          "output_type": "display_data"
        },
        {
          "name": "stderr",
          "output_type": "stream",
          "text": [
            "/var/folders/b1/0fd1b6hs7lz0fm_mh346lybm0000gn/T/ipykernel_90568/283397799.py:7: UserWarning: To copy construct from a tensor, it is recommended to use sourceTensor.clone().detach() or sourceTensor.clone().detach().requires_grad_(True), rather than torch.tensor(sourceTensor).\n",
            "  item = {key: torch.tensor(val[idx]) for key, val in self.encodings.items()}\n",
            "***** Running Evaluation *****\n",
            "  Num examples = 1235\n",
            "  Batch size = 64\n"
          ]
        },
        {
          "name": "stdout",
          "output_type": "stream",
          "text": [
            "{'loss': 1.0616, 'learning_rate': 5e-06, 'epoch': 0.32}\n"
          ]
        },
        {
          "data": {
            "application/vnd.jupyter.widget-view+json": {
              "model_id": "11b43cc44c49413693f037bf2fa60a76",
              "version_major": 2,
              "version_minor": 0
            },
            "text/plain": [
              "  0%|          | 0/20 [00:00<?, ?it/s]"
            ]
          },
          "metadata": {},
          "output_type": "display_data"
        },
        {
          "name": "stdout",
          "output_type": "stream",
          "text": [
            "{'eval_loss': 1.0090727806091309, 'eval_accuracy': 0.6097165991902834, 'eval_f1_score': 0.4618879267507881, 'eval_runtime': 19.9103, 'eval_samples_per_second': 62.028, 'eval_steps_per_second': 1.005, 'epoch': 0.32}\n"
          ]
        },
        {
          "name": "stderr",
          "output_type": "stream",
          "text": [
            "/var/folders/b1/0fd1b6hs7lz0fm_mh346lybm0000gn/T/ipykernel_90568/283397799.py:7: UserWarning: To copy construct from a tensor, it is recommended to use sourceTensor.clone().detach() or sourceTensor.clone().detach().requires_grad_(True), rather than torch.tensor(sourceTensor).\n",
            "  item = {key: torch.tensor(val[idx]) for key, val in self.encodings.items()}\n",
            "***** Running Evaluation *****\n",
            "  Num examples = 1235\n",
            "  Batch size = 64\n"
          ]
        },
        {
          "name": "stdout",
          "output_type": "stream",
          "text": [
            "{'loss': 0.9324, 'learning_rate': 1e-05, 'epoch': 0.65}\n"
          ]
        },
        {
          "data": {
            "application/vnd.jupyter.widget-view+json": {
              "model_id": "c33e1237158f440cb08f2e16c9a5ed60",
              "version_major": 2,
              "version_minor": 0
            },
            "text/plain": [
              "  0%|          | 0/20 [00:00<?, ?it/s]"
            ]
          },
          "metadata": {},
          "output_type": "display_data"
        },
        {
          "name": "stdout",
          "output_type": "stream",
          "text": [
            "{'eval_loss': 0.9025490283966064, 'eval_accuracy': 0.6097165991902834, 'eval_f1_score': 0.4618879267507881, 'eval_runtime': 19.7808, 'eval_samples_per_second': 62.434, 'eval_steps_per_second': 1.011, 'epoch': 0.65}\n"
          ]
        },
        {
          "name": "stderr",
          "output_type": "stream",
          "text": [
            "/var/folders/b1/0fd1b6hs7lz0fm_mh346lybm0000gn/T/ipykernel_90568/283397799.py:7: UserWarning: To copy construct from a tensor, it is recommended to use sourceTensor.clone().detach() or sourceTensor.clone().detach().requires_grad_(True), rather than torch.tensor(sourceTensor).\n",
            "  item = {key: torch.tensor(val[idx]) for key, val in self.encodings.items()}\n",
            "***** Running Evaluation *****\n",
            "  Num examples = 1235\n",
            "  Batch size = 64\n"
          ]
        },
        {
          "name": "stdout",
          "output_type": "stream",
          "text": [
            "{'loss': 0.8563, 'learning_rate': 1.5e-05, 'epoch': 0.97}\n"
          ]
        },
        {
          "data": {
            "application/vnd.jupyter.widget-view+json": {
              "model_id": "8a03000338f74e77b226d4727d325560",
              "version_major": 2,
              "version_minor": 0
            },
            "text/plain": [
              "  0%|          | 0/20 [00:00<?, ?it/s]"
            ]
          },
          "metadata": {},
          "output_type": "display_data"
        },
        {
          "name": "stdout",
          "output_type": "stream",
          "text": [
            "{'eval_loss': 0.8422989845275879, 'eval_accuracy': 0.6178137651821862, 'eval_f1_score': 0.4823997529226821, 'eval_runtime': 18.636, 'eval_samples_per_second': 66.269, 'eval_steps_per_second': 1.073, 'epoch': 0.97}\n"
          ]
        },
        {
          "name": "stderr",
          "output_type": "stream",
          "text": [
            "/var/folders/b1/0fd1b6hs7lz0fm_mh346lybm0000gn/T/ipykernel_90568/283397799.py:7: UserWarning: To copy construct from a tensor, it is recommended to use sourceTensor.clone().detach() or sourceTensor.clone().detach().requires_grad_(True), rather than torch.tensor(sourceTensor).\n",
            "  item = {key: torch.tensor(val[idx]) for key, val in self.encodings.items()}\n",
            "***** Running Evaluation *****\n",
            "  Num examples = 1235\n",
            "  Batch size = 64\n"
          ]
        },
        {
          "name": "stdout",
          "output_type": "stream",
          "text": [
            "{'loss': 0.8178, 'learning_rate': 2e-05, 'epoch': 1.29}\n"
          ]
        },
        {
          "data": {
            "application/vnd.jupyter.widget-view+json": {
              "model_id": "3e8da498836c4d6fbdfad7c8f810d948",
              "version_major": 2,
              "version_minor": 0
            },
            "text/plain": [
              "  0%|          | 0/20 [00:00<?, ?it/s]"
            ]
          },
          "metadata": {},
          "output_type": "display_data"
        },
        {
          "name": "stdout",
          "output_type": "stream",
          "text": [
            "{'eval_loss': 0.775526225566864, 'eval_accuracy': 0.6615384615384615, 'eval_f1_score': 0.5784195464857611, 'eval_runtime': 19.5106, 'eval_samples_per_second': 63.299, 'eval_steps_per_second': 1.025, 'epoch': 1.29}\n"
          ]
        },
        {
          "name": "stderr",
          "output_type": "stream",
          "text": [
            "/var/folders/b1/0fd1b6hs7lz0fm_mh346lybm0000gn/T/ipykernel_90568/283397799.py:7: UserWarning: To copy construct from a tensor, it is recommended to use sourceTensor.clone().detach() or sourceTensor.clone().detach().requires_grad_(True), rather than torch.tensor(sourceTensor).\n",
            "  item = {key: torch.tensor(val[idx]) for key, val in self.encodings.items()}\n",
            "***** Running Evaluation *****\n",
            "  Num examples = 1235\n",
            "  Batch size = 64\n"
          ]
        },
        {
          "name": "stdout",
          "output_type": "stream",
          "text": [
            "{'loss': 0.7404, 'learning_rate': 2.5e-05, 'epoch': 1.61}\n"
          ]
        },
        {
          "data": {
            "application/vnd.jupyter.widget-view+json": {
              "model_id": "b4d1337eb68c42bca9ab62dbf935b13b",
              "version_major": 2,
              "version_minor": 0
            },
            "text/plain": [
              "  0%|          | 0/20 [00:00<?, ?it/s]"
            ]
          },
          "metadata": {},
          "output_type": "display_data"
        },
        {
          "name": "stdout",
          "output_type": "stream",
          "text": [
            "{'eval_loss': 0.7193660140037537, 'eval_accuracy': 0.668825910931174, 'eval_f1_score': 0.5955975960067385, 'eval_runtime': 19.8569, 'eval_samples_per_second': 62.195, 'eval_steps_per_second': 1.007, 'epoch': 1.61}\n"
          ]
        },
        {
          "name": "stderr",
          "output_type": "stream",
          "text": [
            "/var/folders/b1/0fd1b6hs7lz0fm_mh346lybm0000gn/T/ipykernel_90568/283397799.py:7: UserWarning: To copy construct from a tensor, it is recommended to use sourceTensor.clone().detach() or sourceTensor.clone().detach().requires_grad_(True), rather than torch.tensor(sourceTensor).\n",
            "  item = {key: torch.tensor(val[idx]) for key, val in self.encodings.items()}\n",
            "***** Running Evaluation *****\n",
            "  Num examples = 1235\n",
            "  Batch size = 64\n"
          ]
        },
        {
          "name": "stdout",
          "output_type": "stream",
          "text": [
            "{'loss': 0.6543, 'learning_rate': 3e-05, 'epoch': 1.94}\n"
          ]
        },
        {
          "data": {
            "application/vnd.jupyter.widget-view+json": {
              "model_id": "fa3d9e8c4c60454882629c4e77ae155f",
              "version_major": 2,
              "version_minor": 0
            },
            "text/plain": [
              "  0%|          | 0/20 [00:00<?, ?it/s]"
            ]
          },
          "metadata": {},
          "output_type": "display_data"
        },
        {
          "name": "stdout",
          "output_type": "stream",
          "text": [
            "{'eval_loss': 0.6287842988967896, 'eval_accuracy': 0.7327935222672065, 'eval_f1_score': 0.6917034048059206, 'eval_runtime': 19.817, 'eval_samples_per_second': 62.32, 'eval_steps_per_second': 1.009, 'epoch': 1.94}\n"
          ]
        },
        {
          "name": "stderr",
          "output_type": "stream",
          "text": [
            "/var/folders/b1/0fd1b6hs7lz0fm_mh346lybm0000gn/T/ipykernel_90568/283397799.py:7: UserWarning: To copy construct from a tensor, it is recommended to use sourceTensor.clone().detach() or sourceTensor.clone().detach().requires_grad_(True), rather than torch.tensor(sourceTensor).\n",
            "  item = {key: torch.tensor(val[idx]) for key, val in self.encodings.items()}\n",
            "***** Running Evaluation *****\n",
            "  Num examples = 1235\n",
            "  Batch size = 64\n"
          ]
        },
        {
          "name": "stdout",
          "output_type": "stream",
          "text": [
            "{'loss': 0.6174, 'learning_rate': 3.5e-05, 'epoch': 2.26}\n"
          ]
        },
        {
          "data": {
            "application/vnd.jupyter.widget-view+json": {
              "model_id": "8136dc732a8d4887a34d65a6b6610235",
              "version_major": 2,
              "version_minor": 0
            },
            "text/plain": [
              "  0%|          | 0/20 [00:00<?, ?it/s]"
            ]
          },
          "metadata": {},
          "output_type": "display_data"
        },
        {
          "name": "stdout",
          "output_type": "stream",
          "text": [
            "{'eval_loss': 0.5734500885009766, 'eval_accuracy': 0.7497975708502024, 'eval_f1_score': 0.7179064613806804, 'eval_runtime': 20.051, 'eval_samples_per_second': 61.593, 'eval_steps_per_second': 0.997, 'epoch': 2.26}\n"
          ]
        },
        {
          "name": "stderr",
          "output_type": "stream",
          "text": [
            "/var/folders/b1/0fd1b6hs7lz0fm_mh346lybm0000gn/T/ipykernel_90568/283397799.py:7: UserWarning: To copy construct from a tensor, it is recommended to use sourceTensor.clone().detach() or sourceTensor.clone().detach().requires_grad_(True), rather than torch.tensor(sourceTensor).\n",
            "  item = {key: torch.tensor(val[idx]) for key, val in self.encodings.items()}\n",
            "***** Running Evaluation *****\n",
            "  Num examples = 1235\n",
            "  Batch size = 64\n"
          ]
        },
        {
          "name": "stdout",
          "output_type": "stream",
          "text": [
            "{'loss': 0.5525, 'learning_rate': 4e-05, 'epoch': 2.58}\n"
          ]
        },
        {
          "data": {
            "application/vnd.jupyter.widget-view+json": {
              "model_id": "c41e9263d2ed43bca0326f38589c1534",
              "version_major": 2,
              "version_minor": 0
            },
            "text/plain": [
              "  0%|          | 0/20 [00:00<?, ?it/s]"
            ]
          },
          "metadata": {},
          "output_type": "display_data"
        },
        {
          "name": "stdout",
          "output_type": "stream",
          "text": [
            "{'eval_loss': 0.5187347531318665, 'eval_accuracy': 0.7692307692307693, 'eval_f1_score': 0.7551111009267645, 'eval_runtime': 19.1615, 'eval_samples_per_second': 64.452, 'eval_steps_per_second': 1.044, 'epoch': 2.58}\n"
          ]
        },
        {
          "name": "stderr",
          "output_type": "stream",
          "text": [
            "/var/folders/b1/0fd1b6hs7lz0fm_mh346lybm0000gn/T/ipykernel_90568/283397799.py:7: UserWarning: To copy construct from a tensor, it is recommended to use sourceTensor.clone().detach() or sourceTensor.clone().detach().requires_grad_(True), rather than torch.tensor(sourceTensor).\n",
            "  item = {key: torch.tensor(val[idx]) for key, val in self.encodings.items()}\n",
            "***** Running Evaluation *****\n",
            "  Num examples = 1235\n",
            "  Batch size = 64\n"
          ]
        },
        {
          "name": "stdout",
          "output_type": "stream",
          "text": [
            "{'loss': 0.5431, 'learning_rate': 4.5e-05, 'epoch': 2.9}\n"
          ]
        },
        {
          "data": {
            "application/vnd.jupyter.widget-view+json": {
              "model_id": "48bb4093410c4cc9bad965e1d5a81d73",
              "version_major": 2,
              "version_minor": 0
            },
            "text/plain": [
              "  0%|          | 0/20 [00:00<?, ?it/s]"
            ]
          },
          "metadata": {},
          "output_type": "display_data"
        },
        {
          "name": "stdout",
          "output_type": "stream",
          "text": [
            "{'eval_loss': 0.5188854336738586, 'eval_accuracy': 0.7781376518218623, 'eval_f1_score': 0.7801954598013459, 'eval_runtime': 19.7679, 'eval_samples_per_second': 62.475, 'eval_steps_per_second': 1.012, 'epoch': 2.9}\n"
          ]
        },
        {
          "name": "stderr",
          "output_type": "stream",
          "text": [
            "/var/folders/b1/0fd1b6hs7lz0fm_mh346lybm0000gn/T/ipykernel_90568/283397799.py:7: UserWarning: To copy construct from a tensor, it is recommended to use sourceTensor.clone().detach() or sourceTensor.clone().detach().requires_grad_(True), rather than torch.tensor(sourceTensor).\n",
            "  item = {key: torch.tensor(val[idx]) for key, val in self.encodings.items()}\n",
            "***** Running Evaluation *****\n",
            "  Num examples = 1235\n",
            "  Batch size = 64\n"
          ]
        },
        {
          "name": "stdout",
          "output_type": "stream",
          "text": [
            "{'loss': 0.4989, 'learning_rate': 5e-05, 'epoch': 3.23}\n"
          ]
        },
        {
          "data": {
            "application/vnd.jupyter.widget-view+json": {
              "model_id": "003240ac44b14f499b63cf2d8124cb15",
              "version_major": 2,
              "version_minor": 0
            },
            "text/plain": [
              "  0%|          | 0/20 [00:00<?, ?it/s]"
            ]
          },
          "metadata": {},
          "output_type": "display_data"
        },
        {
          "name": "stderr",
          "output_type": "stream",
          "text": [
            "Saving model checkpoint to training/checkpoint-500\n",
            "Configuration saved in training/checkpoint-500/config.json\n"
          ]
        },
        {
          "name": "stdout",
          "output_type": "stream",
          "text": [
            "{'eval_loss': 0.5009760856628418, 'eval_accuracy': 0.794331983805668, 'eval_f1_score': 0.7963676282309027, 'eval_runtime': 18.1562, 'eval_samples_per_second': 68.021, 'eval_steps_per_second': 1.102, 'epoch': 3.23}\n"
          ]
        },
        {
          "name": "stderr",
          "output_type": "stream",
          "text": [
            "Model weights saved in training/checkpoint-500/pytorch_model.bin\n",
            "/var/folders/b1/0fd1b6hs7lz0fm_mh346lybm0000gn/T/ipykernel_90568/283397799.py:7: UserWarning: To copy construct from a tensor, it is recommended to use sourceTensor.clone().detach() or sourceTensor.clone().detach().requires_grad_(True), rather than torch.tensor(sourceTensor).\n",
            "  item = {key: torch.tensor(val[idx]) for key, val in self.encodings.items()}\n",
            "***** Running Evaluation *****\n",
            "  Num examples = 1235\n",
            "  Batch size = 64\n"
          ]
        },
        {
          "name": "stdout",
          "output_type": "stream",
          "text": [
            "{'loss': 0.5204, 'learning_rate': 4.761904761904762e-05, 'epoch': 3.55}\n"
          ]
        },
        {
          "data": {
            "application/vnd.jupyter.widget-view+json": {
              "model_id": "659b934e93454cb484e99a94e9ea43b3",
              "version_major": 2,
              "version_minor": 0
            },
            "text/plain": [
              "  0%|          | 0/20 [00:00<?, ?it/s]"
            ]
          },
          "metadata": {},
          "output_type": "display_data"
        },
        {
          "name": "stdout",
          "output_type": "stream",
          "text": [
            "{'eval_loss': 0.4413304924964905, 'eval_accuracy': 0.8178137651821862, 'eval_f1_score': 0.8185034175537553, 'eval_runtime': 17.1498, 'eval_samples_per_second': 72.012, 'eval_steps_per_second': 1.166, 'epoch': 3.55}\n"
          ]
        },
        {
          "name": "stderr",
          "output_type": "stream",
          "text": [
            "/var/folders/b1/0fd1b6hs7lz0fm_mh346lybm0000gn/T/ipykernel_90568/283397799.py:7: UserWarning: To copy construct from a tensor, it is recommended to use sourceTensor.clone().detach() or sourceTensor.clone().detach().requires_grad_(True), rather than torch.tensor(sourceTensor).\n",
            "  item = {key: torch.tensor(val[idx]) for key, val in self.encodings.items()}\n",
            "***** Running Evaluation *****\n",
            "  Num examples = 1235\n",
            "  Batch size = 64\n"
          ]
        },
        {
          "name": "stdout",
          "output_type": "stream",
          "text": [
            "{'loss': 0.4736, 'learning_rate': 4.523809523809524e-05, 'epoch': 3.87}\n"
          ]
        },
        {
          "data": {
            "application/vnd.jupyter.widget-view+json": {
              "model_id": "a291a84a3d45496aa0d42e65b158814e",
              "version_major": 2,
              "version_minor": 0
            },
            "text/plain": [
              "  0%|          | 0/20 [00:00<?, ?it/s]"
            ]
          },
          "metadata": {},
          "output_type": "display_data"
        },
        {
          "name": "stdout",
          "output_type": "stream",
          "text": [
            "{'eval_loss': 0.4664141535758972, 'eval_accuracy': 0.8, 'eval_f1_score': 0.8050266199301466, 'eval_runtime': 17.2963, 'eval_samples_per_second': 71.403, 'eval_steps_per_second': 1.156, 'epoch': 3.87}\n"
          ]
        },
        {
          "name": "stderr",
          "output_type": "stream",
          "text": [
            "/var/folders/b1/0fd1b6hs7lz0fm_mh346lybm0000gn/T/ipykernel_90568/283397799.py:7: UserWarning: To copy construct from a tensor, it is recommended to use sourceTensor.clone().detach() or sourceTensor.clone().detach().requires_grad_(True), rather than torch.tensor(sourceTensor).\n",
            "  item = {key: torch.tensor(val[idx]) for key, val in self.encodings.items()}\n",
            "***** Running Evaluation *****\n",
            "  Num examples = 1235\n",
            "  Batch size = 64\n"
          ]
        },
        {
          "name": "stdout",
          "output_type": "stream",
          "text": [
            "{'loss': 0.428, 'learning_rate': 4.2857142857142856e-05, 'epoch': 4.19}\n"
          ]
        },
        {
          "data": {
            "application/vnd.jupyter.widget-view+json": {
              "model_id": "d6324c1edb454606aa24c6967101d2af",
              "version_major": 2,
              "version_minor": 0
            },
            "text/plain": [
              "  0%|          | 0/20 [00:00<?, ?it/s]"
            ]
          },
          "metadata": {},
          "output_type": "display_data"
        },
        {
          "name": "stdout",
          "output_type": "stream",
          "text": [
            "{'eval_loss': 0.4425126910209656, 'eval_accuracy': 0.8113360323886639, 'eval_f1_score': 0.8149176568802259, 'eval_runtime': 17.1876, 'eval_samples_per_second': 71.854, 'eval_steps_per_second': 1.164, 'epoch': 4.19}\n"
          ]
        },
        {
          "name": "stderr",
          "output_type": "stream",
          "text": [
            "/var/folders/b1/0fd1b6hs7lz0fm_mh346lybm0000gn/T/ipykernel_90568/283397799.py:7: UserWarning: To copy construct from a tensor, it is recommended to use sourceTensor.clone().detach() or sourceTensor.clone().detach().requires_grad_(True), rather than torch.tensor(sourceTensor).\n",
            "  item = {key: torch.tensor(val[idx]) for key, val in self.encodings.items()}\n",
            "***** Running Evaluation *****\n",
            "  Num examples = 1235\n",
            "  Batch size = 64\n"
          ]
        },
        {
          "name": "stdout",
          "output_type": "stream",
          "text": [
            "{'loss': 0.409, 'learning_rate': 4.047619047619048e-05, 'epoch': 4.52}\n"
          ]
        },
        {
          "data": {
            "application/vnd.jupyter.widget-view+json": {
              "model_id": "fd7d0deeb67142d5bfc009815dbd10e8",
              "version_major": 2,
              "version_minor": 0
            },
            "text/plain": [
              "  0%|          | 0/20 [00:00<?, ?it/s]"
            ]
          },
          "metadata": {},
          "output_type": "display_data"
        },
        {
          "name": "stdout",
          "output_type": "stream",
          "text": [
            "{'eval_loss': 0.40625837445259094, 'eval_accuracy': 0.8412955465587044, 'eval_f1_score': 0.8413864470937807, 'eval_runtime': 17.0693, 'eval_samples_per_second': 72.352, 'eval_steps_per_second': 1.172, 'epoch': 4.52}\n"
          ]
        },
        {
          "name": "stderr",
          "output_type": "stream",
          "text": [
            "/var/folders/b1/0fd1b6hs7lz0fm_mh346lybm0000gn/T/ipykernel_90568/283397799.py:7: UserWarning: To copy construct from a tensor, it is recommended to use sourceTensor.clone().detach() or sourceTensor.clone().detach().requires_grad_(True), rather than torch.tensor(sourceTensor).\n",
            "  item = {key: torch.tensor(val[idx]) for key, val in self.encodings.items()}\n",
            "***** Running Evaluation *****\n",
            "  Num examples = 1235\n",
            "  Batch size = 64\n"
          ]
        },
        {
          "name": "stdout",
          "output_type": "stream",
          "text": [
            "{'loss': 0.4358, 'learning_rate': 3.809523809523809e-05, 'epoch': 4.84}\n"
          ]
        },
        {
          "data": {
            "application/vnd.jupyter.widget-view+json": {
              "model_id": "4280a008aa90498f8c4c80300a2c1980",
              "version_major": 2,
              "version_minor": 0
            },
            "text/plain": [
              "  0%|          | 0/20 [00:00<?, ?it/s]"
            ]
          },
          "metadata": {},
          "output_type": "display_data"
        },
        {
          "name": "stdout",
          "output_type": "stream",
          "text": [
            "{'eval_loss': 0.44561031460762024, 'eval_accuracy': 0.8113360323886639, 'eval_f1_score': 0.8158938485152638, 'eval_runtime': 17.0924, 'eval_samples_per_second': 72.254, 'eval_steps_per_second': 1.17, 'epoch': 4.84}\n"
          ]
        },
        {
          "name": "stderr",
          "output_type": "stream",
          "text": [
            "/var/folders/b1/0fd1b6hs7lz0fm_mh346lybm0000gn/T/ipykernel_90568/283397799.py:7: UserWarning: To copy construct from a tensor, it is recommended to use sourceTensor.clone().detach() or sourceTensor.clone().detach().requires_grad_(True), rather than torch.tensor(sourceTensor).\n",
            "  item = {key: torch.tensor(val[idx]) for key, val in self.encodings.items()}\n",
            "***** Running Evaluation *****\n",
            "  Num examples = 1235\n",
            "  Batch size = 64\n"
          ]
        },
        {
          "name": "stdout",
          "output_type": "stream",
          "text": [
            "{'loss': 0.409, 'learning_rate': 3.571428571428572e-05, 'epoch': 5.16}\n"
          ]
        },
        {
          "data": {
            "application/vnd.jupyter.widget-view+json": {
              "model_id": "6c1a1ebed2914178b6033b52b1aceb84",
              "version_major": 2,
              "version_minor": 0
            },
            "text/plain": [
              "  0%|          | 0/20 [00:00<?, ?it/s]"
            ]
          },
          "metadata": {},
          "output_type": "display_data"
        },
        {
          "name": "stdout",
          "output_type": "stream",
          "text": [
            "{'eval_loss': 0.4019330143928528, 'eval_accuracy': 0.8437246963562753, 'eval_f1_score': 0.8448590924085855, 'eval_runtime': 17.0746, 'eval_samples_per_second': 72.329, 'eval_steps_per_second': 1.171, 'epoch': 5.16}\n"
          ]
        },
        {
          "name": "stderr",
          "output_type": "stream",
          "text": [
            "/var/folders/b1/0fd1b6hs7lz0fm_mh346lybm0000gn/T/ipykernel_90568/283397799.py:7: UserWarning: To copy construct from a tensor, it is recommended to use sourceTensor.clone().detach() or sourceTensor.clone().detach().requires_grad_(True), rather than torch.tensor(sourceTensor).\n",
            "  item = {key: torch.tensor(val[idx]) for key, val in self.encodings.items()}\n",
            "***** Running Evaluation *****\n",
            "  Num examples = 1235\n",
            "  Batch size = 64\n"
          ]
        },
        {
          "name": "stdout",
          "output_type": "stream",
          "text": [
            "{'loss': 0.3959, 'learning_rate': 3.3333333333333335e-05, 'epoch': 5.48}\n"
          ]
        },
        {
          "data": {
            "application/vnd.jupyter.widget-view+json": {
              "model_id": "85efb92e80f14d539da8df7f93e3e4d0",
              "version_major": 2,
              "version_minor": 0
            },
            "text/plain": [
              "  0%|          | 0/20 [00:00<?, ?it/s]"
            ]
          },
          "metadata": {},
          "output_type": "display_data"
        },
        {
          "name": "stdout",
          "output_type": "stream",
          "text": [
            "{'eval_loss': 0.3796737790107727, 'eval_accuracy': 0.8647773279352227, 'eval_f1_score': 0.8648234148272979, 'eval_runtime': 17.1169, 'eval_samples_per_second': 72.151, 'eval_steps_per_second': 1.168, 'epoch': 5.48}\n"
          ]
        },
        {
          "name": "stderr",
          "output_type": "stream",
          "text": [
            "/var/folders/b1/0fd1b6hs7lz0fm_mh346lybm0000gn/T/ipykernel_90568/283397799.py:7: UserWarning: To copy construct from a tensor, it is recommended to use sourceTensor.clone().detach() or sourceTensor.clone().detach().requires_grad_(True), rather than torch.tensor(sourceTensor).\n",
            "  item = {key: torch.tensor(val[idx]) for key, val in self.encodings.items()}\n",
            "***** Running Evaluation *****\n",
            "  Num examples = 1235\n",
            "  Batch size = 64\n"
          ]
        },
        {
          "name": "stdout",
          "output_type": "stream",
          "text": [
            "{'loss': 0.348, 'learning_rate': 3.095238095238095e-05, 'epoch': 5.81}\n"
          ]
        },
        {
          "data": {
            "application/vnd.jupyter.widget-view+json": {
              "model_id": "de0c958644174c598bc50da36f7bd9ad",
              "version_major": 2,
              "version_minor": 0
            },
            "text/plain": [
              "  0%|          | 0/20 [00:00<?, ?it/s]"
            ]
          },
          "metadata": {},
          "output_type": "display_data"
        },
        {
          "name": "stdout",
          "output_type": "stream",
          "text": [
            "{'eval_loss': 0.4504992663860321, 'eval_accuracy': 0.8161943319838056, 'eval_f1_score': 0.8202364407597721, 'eval_runtime': 17.1451, 'eval_samples_per_second': 72.032, 'eval_steps_per_second': 1.167, 'epoch': 5.81}\n"
          ]
        },
        {
          "name": "stderr",
          "output_type": "stream",
          "text": [
            "/var/folders/b1/0fd1b6hs7lz0fm_mh346lybm0000gn/T/ipykernel_90568/283397799.py:7: UserWarning: To copy construct from a tensor, it is recommended to use sourceTensor.clone().detach() or sourceTensor.clone().detach().requires_grad_(True), rather than torch.tensor(sourceTensor).\n",
            "  item = {key: torch.tensor(val[idx]) for key, val in self.encodings.items()}\n",
            "***** Running Evaluation *****\n",
            "  Num examples = 1235\n",
            "  Batch size = 64\n"
          ]
        },
        {
          "name": "stdout",
          "output_type": "stream",
          "text": [
            "{'loss': 0.3498, 'learning_rate': 2.857142857142857e-05, 'epoch': 6.13}\n"
          ]
        },
        {
          "data": {
            "application/vnd.jupyter.widget-view+json": {
              "model_id": "1332b29e08c24d59b332d8a96e7caafe",
              "version_major": 2,
              "version_minor": 0
            },
            "text/plain": [
              "  0%|          | 0/20 [00:00<?, ?it/s]"
            ]
          },
          "metadata": {},
          "output_type": "display_data"
        },
        {
          "name": "stdout",
          "output_type": "stream",
          "text": [
            "{'eval_loss': 0.4367295205593109, 'eval_accuracy': 0.8299595141700404, 'eval_f1_score': 0.8333816308731581, 'eval_runtime': 17.7073, 'eval_samples_per_second': 69.745, 'eval_steps_per_second': 1.129, 'epoch': 6.13}\n"
          ]
        },
        {
          "name": "stderr",
          "output_type": "stream",
          "text": [
            "/var/folders/b1/0fd1b6hs7lz0fm_mh346lybm0000gn/T/ipykernel_90568/283397799.py:7: UserWarning: To copy construct from a tensor, it is recommended to use sourceTensor.clone().detach() or sourceTensor.clone().detach().requires_grad_(True), rather than torch.tensor(sourceTensor).\n",
            "  item = {key: torch.tensor(val[idx]) for key, val in self.encodings.items()}\n",
            "***** Running Evaluation *****\n",
            "  Num examples = 1235\n",
            "  Batch size = 64\n"
          ]
        },
        {
          "name": "stdout",
          "output_type": "stream",
          "text": [
            "{'loss': 0.3314, 'learning_rate': 2.6190476190476192e-05, 'epoch': 6.45}\n"
          ]
        },
        {
          "data": {
            "application/vnd.jupyter.widget-view+json": {
              "model_id": "9b525bf604344bf391df0a103ba493d4",
              "version_major": 2,
              "version_minor": 0
            },
            "text/plain": [
              "  0%|          | 0/20 [00:00<?, ?it/s]"
            ]
          },
          "metadata": {},
          "output_type": "display_data"
        },
        {
          "name": "stderr",
          "output_type": "stream",
          "text": [
            "Saving model checkpoint to training/checkpoint-1000\n",
            "Configuration saved in training/checkpoint-1000/config.json\n"
          ]
        },
        {
          "name": "stdout",
          "output_type": "stream",
          "text": [
            "{'eval_loss': 0.47549647092819214, 'eval_accuracy': 0.8072874493927126, 'eval_f1_score': 0.8118977019047231, 'eval_runtime': 17.6131, 'eval_samples_per_second': 70.118, 'eval_steps_per_second': 1.136, 'epoch': 6.45}\n"
          ]
        },
        {
          "name": "stderr",
          "output_type": "stream",
          "text": [
            "Model weights saved in training/checkpoint-1000/pytorch_model.bin\n",
            "/var/folders/b1/0fd1b6hs7lz0fm_mh346lybm0000gn/T/ipykernel_90568/283397799.py:7: UserWarning: To copy construct from a tensor, it is recommended to use sourceTensor.clone().detach() or sourceTensor.clone().detach().requires_grad_(True), rather than torch.tensor(sourceTensor).\n",
            "  item = {key: torch.tensor(val[idx]) for key, val in self.encodings.items()}\n",
            "***** Running Evaluation *****\n",
            "  Num examples = 1235\n",
            "  Batch size = 64\n"
          ]
        },
        {
          "name": "stdout",
          "output_type": "stream",
          "text": [
            "{'loss': 0.3329, 'learning_rate': 2.380952380952381e-05, 'epoch': 6.77}\n"
          ]
        },
        {
          "data": {
            "application/vnd.jupyter.widget-view+json": {
              "model_id": "e3719113b32c4d4691dd1e09748b92c2",
              "version_major": 2,
              "version_minor": 0
            },
            "text/plain": [
              "  0%|          | 0/20 [00:00<?, ?it/s]"
            ]
          },
          "metadata": {},
          "output_type": "display_data"
        },
        {
          "name": "stdout",
          "output_type": "stream",
          "text": [
            "{'eval_loss': 0.44489964842796326, 'eval_accuracy': 0.8234817813765182, 'eval_f1_score': 0.8274732363533813, 'eval_runtime': 17.8167, 'eval_samples_per_second': 69.317, 'eval_steps_per_second': 1.123, 'epoch': 6.77}\n"
          ]
        },
        {
          "name": "stderr",
          "output_type": "stream",
          "text": [
            "/var/folders/b1/0fd1b6hs7lz0fm_mh346lybm0000gn/T/ipykernel_90568/283397799.py:7: UserWarning: To copy construct from a tensor, it is recommended to use sourceTensor.clone().detach() or sourceTensor.clone().detach().requires_grad_(True), rather than torch.tensor(sourceTensor).\n",
            "  item = {key: torch.tensor(val[idx]) for key, val in self.encodings.items()}\n",
            "***** Running Evaluation *****\n",
            "  Num examples = 1235\n",
            "  Batch size = 64\n"
          ]
        },
        {
          "name": "stdout",
          "output_type": "stream",
          "text": [
            "{'loss': 0.3405, 'learning_rate': 2.1428571428571428e-05, 'epoch': 7.1}\n"
          ]
        },
        {
          "data": {
            "application/vnd.jupyter.widget-view+json": {
              "model_id": "a9bccf3a28904a41b06c62b2e33f18e2",
              "version_major": 2,
              "version_minor": 0
            },
            "text/plain": [
              "  0%|          | 0/20 [00:00<?, ?it/s]"
            ]
          },
          "metadata": {},
          "output_type": "display_data"
        },
        {
          "name": "stdout",
          "output_type": "stream",
          "text": [
            "{'eval_loss': 0.4019692838191986, 'eval_accuracy': 0.8396761133603239, 'eval_f1_score': 0.8420816352775391, 'eval_runtime': 17.7236, 'eval_samples_per_second': 69.681, 'eval_steps_per_second': 1.128, 'epoch': 7.1}\n"
          ]
        },
        {
          "name": "stderr",
          "output_type": "stream",
          "text": [
            "/var/folders/b1/0fd1b6hs7lz0fm_mh346lybm0000gn/T/ipykernel_90568/283397799.py:7: UserWarning: To copy construct from a tensor, it is recommended to use sourceTensor.clone().detach() or sourceTensor.clone().detach().requires_grad_(True), rather than torch.tensor(sourceTensor).\n",
            "  item = {key: torch.tensor(val[idx]) for key, val in self.encodings.items()}\n",
            "***** Running Evaluation *****\n",
            "  Num examples = 1235\n",
            "  Batch size = 64\n"
          ]
        },
        {
          "name": "stdout",
          "output_type": "stream",
          "text": [
            "{'loss': 0.3107, 'learning_rate': 1.9047619047619046e-05, 'epoch': 7.42}\n"
          ]
        },
        {
          "data": {
            "application/vnd.jupyter.widget-view+json": {
              "model_id": "51b01253e88648ab84be5cd6b1908639",
              "version_major": 2,
              "version_minor": 0
            },
            "text/plain": [
              "  0%|          | 0/20 [00:00<?, ?it/s]"
            ]
          },
          "metadata": {},
          "output_type": "display_data"
        },
        {
          "name": "stdout",
          "output_type": "stream",
          "text": [
            "{'eval_loss': 0.3741989731788635, 'eval_accuracy': 0.8566801619433199, 'eval_f1_score': 0.8576204369475364, 'eval_runtime': 17.7937, 'eval_samples_per_second': 69.406, 'eval_steps_per_second': 1.124, 'epoch': 7.42}\n"
          ]
        },
        {
          "name": "stderr",
          "output_type": "stream",
          "text": [
            "/var/folders/b1/0fd1b6hs7lz0fm_mh346lybm0000gn/T/ipykernel_90568/283397799.py:7: UserWarning: To copy construct from a tensor, it is recommended to use sourceTensor.clone().detach() or sourceTensor.clone().detach().requires_grad_(True), rather than torch.tensor(sourceTensor).\n",
            "  item = {key: torch.tensor(val[idx]) for key, val in self.encodings.items()}\n",
            "***** Running Evaluation *****\n",
            "  Num examples = 1235\n",
            "  Batch size = 64\n"
          ]
        },
        {
          "name": "stdout",
          "output_type": "stream",
          "text": [
            "{'loss': 0.3093, 'learning_rate': 1.6666666666666667e-05, 'epoch': 7.74}\n"
          ]
        },
        {
          "data": {
            "application/vnd.jupyter.widget-view+json": {
              "model_id": "86666e3597454b47aa281c5493375de6",
              "version_major": 2,
              "version_minor": 0
            },
            "text/plain": [
              "  0%|          | 0/20 [00:00<?, ?it/s]"
            ]
          },
          "metadata": {},
          "output_type": "display_data"
        },
        {
          "name": "stdout",
          "output_type": "stream",
          "text": [
            "{'eval_loss': 0.4003281593322754, 'eval_accuracy': 0.8429149797570851, 'eval_f1_score': 0.8454625869637503, 'eval_runtime': 17.6444, 'eval_samples_per_second': 69.994, 'eval_steps_per_second': 1.134, 'epoch': 7.74}\n"
          ]
        },
        {
          "name": "stderr",
          "output_type": "stream",
          "text": [
            "/var/folders/b1/0fd1b6hs7lz0fm_mh346lybm0000gn/T/ipykernel_90568/283397799.py:7: UserWarning: To copy construct from a tensor, it is recommended to use sourceTensor.clone().detach() or sourceTensor.clone().detach().requires_grad_(True), rather than torch.tensor(sourceTensor).\n",
            "  item = {key: torch.tensor(val[idx]) for key, val in self.encodings.items()}\n",
            "***** Running Evaluation *****\n",
            "  Num examples = 1235\n",
            "  Batch size = 64\n"
          ]
        },
        {
          "name": "stdout",
          "output_type": "stream",
          "text": [
            "{'loss': 0.3159, 'learning_rate': 1.4285714285714285e-05, 'epoch': 8.06}\n"
          ]
        },
        {
          "data": {
            "application/vnd.jupyter.widget-view+json": {
              "model_id": "59aca4f778954d1b8c816d75c78713d0",
              "version_major": 2,
              "version_minor": 0
            },
            "text/plain": [
              "  0%|          | 0/20 [00:00<?, ?it/s]"
            ]
          },
          "metadata": {},
          "output_type": "display_data"
        },
        {
          "name": "stdout",
          "output_type": "stream",
          "text": [
            "{'eval_loss': 0.40188390016555786, 'eval_accuracy': 0.8453441295546559, 'eval_f1_score': 0.8473978401605198, 'eval_runtime': 17.3936, 'eval_samples_per_second': 71.003, 'eval_steps_per_second': 1.15, 'epoch': 8.06}\n"
          ]
        },
        {
          "name": "stderr",
          "output_type": "stream",
          "text": [
            "/var/folders/b1/0fd1b6hs7lz0fm_mh346lybm0000gn/T/ipykernel_90568/283397799.py:7: UserWarning: To copy construct from a tensor, it is recommended to use sourceTensor.clone().detach() or sourceTensor.clone().detach().requires_grad_(True), rather than torch.tensor(sourceTensor).\n",
            "  item = {key: torch.tensor(val[idx]) for key, val in self.encodings.items()}\n",
            "***** Running Evaluation *****\n",
            "  Num examples = 1235\n",
            "  Batch size = 64\n"
          ]
        },
        {
          "name": "stdout",
          "output_type": "stream",
          "text": [
            "{'loss': 0.259, 'learning_rate': 1.1904761904761905e-05, 'epoch': 8.39}\n"
          ]
        },
        {
          "data": {
            "application/vnd.jupyter.widget-view+json": {
              "model_id": "f3623d5dacb84966982f4b1e1e0d0a7b",
              "version_major": 2,
              "version_minor": 0
            },
            "text/plain": [
              "  0%|          | 0/20 [00:00<?, ?it/s]"
            ]
          },
          "metadata": {},
          "output_type": "display_data"
        },
        {
          "name": "stdout",
          "output_type": "stream",
          "text": [
            "{'eval_loss': 0.40793827176094055, 'eval_accuracy': 0.8502024291497976, 'eval_f1_score': 0.8517307117261931, 'eval_runtime': 17.3394, 'eval_samples_per_second': 71.225, 'eval_steps_per_second': 1.153, 'epoch': 8.39}\n"
          ]
        },
        {
          "name": "stderr",
          "output_type": "stream",
          "text": [
            "/var/folders/b1/0fd1b6hs7lz0fm_mh346lybm0000gn/T/ipykernel_90568/283397799.py:7: UserWarning: To copy construct from a tensor, it is recommended to use sourceTensor.clone().detach() or sourceTensor.clone().detach().requires_grad_(True), rather than torch.tensor(sourceTensor).\n",
            "  item = {key: torch.tensor(val[idx]) for key, val in self.encodings.items()}\n",
            "***** Running Evaluation *****\n",
            "  Num examples = 1235\n",
            "  Batch size = 64\n"
          ]
        },
        {
          "name": "stdout",
          "output_type": "stream",
          "text": [
            "{'loss': 0.2853, 'learning_rate': 9.523809523809523e-06, 'epoch': 8.71}\n"
          ]
        },
        {
          "data": {
            "application/vnd.jupyter.widget-view+json": {
              "model_id": "5dda2ed10cda46b58c7f9c2dd845288d",
              "version_major": 2,
              "version_minor": 0
            },
            "text/plain": [
              "  0%|          | 0/20 [00:00<?, ?it/s]"
            ]
          },
          "metadata": {},
          "output_type": "display_data"
        },
        {
          "name": "stdout",
          "output_type": "stream",
          "text": [
            "{'eval_loss': 0.41443493962287903, 'eval_accuracy': 0.8461538461538461, 'eval_f1_score': 0.8481301828175124, 'eval_runtime': 18.823, 'eval_samples_per_second': 65.611, 'eval_steps_per_second': 1.063, 'epoch': 8.71}\n"
          ]
        },
        {
          "name": "stderr",
          "output_type": "stream",
          "text": [
            "/var/folders/b1/0fd1b6hs7lz0fm_mh346lybm0000gn/T/ipykernel_90568/283397799.py:7: UserWarning: To copy construct from a tensor, it is recommended to use sourceTensor.clone().detach() or sourceTensor.clone().detach().requires_grad_(True), rather than torch.tensor(sourceTensor).\n",
            "  item = {key: torch.tensor(val[idx]) for key, val in self.encodings.items()}\n",
            "***** Running Evaluation *****\n",
            "  Num examples = 1235\n",
            "  Batch size = 64\n"
          ]
        },
        {
          "name": "stdout",
          "output_type": "stream",
          "text": [
            "{'loss': 0.2514, 'learning_rate': 7.142857142857143e-06, 'epoch': 9.03}\n"
          ]
        },
        {
          "data": {
            "application/vnd.jupyter.widget-view+json": {
              "model_id": "28be1cba0e534cf0a29f4a8b1609b1e4",
              "version_major": 2,
              "version_minor": 0
            },
            "text/plain": [
              "  0%|          | 0/20 [00:00<?, ?it/s]"
            ]
          },
          "metadata": {},
          "output_type": "display_data"
        },
        {
          "name": "stdout",
          "output_type": "stream",
          "text": [
            "{'eval_loss': 0.44671985507011414, 'eval_accuracy': 0.8340080971659919, 'eval_f1_score': 0.8372416040217894, 'eval_runtime': 18.6734, 'eval_samples_per_second': 66.137, 'eval_steps_per_second': 1.071, 'epoch': 9.03}\n"
          ]
        },
        {
          "name": "stderr",
          "output_type": "stream",
          "text": [
            "/var/folders/b1/0fd1b6hs7lz0fm_mh346lybm0000gn/T/ipykernel_90568/283397799.py:7: UserWarning: To copy construct from a tensor, it is recommended to use sourceTensor.clone().detach() or sourceTensor.clone().detach().requires_grad_(True), rather than torch.tensor(sourceTensor).\n",
            "  item = {key: torch.tensor(val[idx]) for key, val in self.encodings.items()}\n",
            "***** Running Evaluation *****\n",
            "  Num examples = 1235\n",
            "  Batch size = 64\n"
          ]
        },
        {
          "name": "stdout",
          "output_type": "stream",
          "text": [
            "{'loss': 0.2457, 'learning_rate': 4.7619047619047615e-06, 'epoch': 9.35}\n"
          ]
        },
        {
          "data": {
            "application/vnd.jupyter.widget-view+json": {
              "model_id": "5e857a2433a5425da17e4cd7ecd7cdd9",
              "version_major": 2,
              "version_minor": 0
            },
            "text/plain": [
              "  0%|          | 0/20 [00:00<?, ?it/s]"
            ]
          },
          "metadata": {},
          "output_type": "display_data"
        },
        {
          "name": "stdout",
          "output_type": "stream",
          "text": [
            "{'eval_loss': 0.43733078241348267, 'eval_accuracy': 0.8364372469635628, 'eval_f1_score': 0.8393011463697656, 'eval_runtime': 17.5707, 'eval_samples_per_second': 70.287, 'eval_steps_per_second': 1.138, 'epoch': 9.35}\n"
          ]
        },
        {
          "name": "stderr",
          "output_type": "stream",
          "text": [
            "/var/folders/b1/0fd1b6hs7lz0fm_mh346lybm0000gn/T/ipykernel_90568/283397799.py:7: UserWarning: To copy construct from a tensor, it is recommended to use sourceTensor.clone().detach() or sourceTensor.clone().detach().requires_grad_(True), rather than torch.tensor(sourceTensor).\n",
            "  item = {key: torch.tensor(val[idx]) for key, val in self.encodings.items()}\n",
            "***** Running Evaluation *****\n",
            "  Num examples = 1235\n",
            "  Batch size = 64\n"
          ]
        },
        {
          "name": "stdout",
          "output_type": "stream",
          "text": [
            "{'loss': 0.2636, 'learning_rate': 2.3809523809523808e-06, 'epoch': 9.68}\n"
          ]
        },
        {
          "data": {
            "application/vnd.jupyter.widget-view+json": {
              "model_id": "9bc16ecd82174119a85a1d30db34ac49",
              "version_major": 2,
              "version_minor": 0
            },
            "text/plain": [
              "  0%|          | 0/20 [00:00<?, ?it/s]"
            ]
          },
          "metadata": {},
          "output_type": "display_data"
        },
        {
          "name": "stderr",
          "output_type": "stream",
          "text": [
            "Saving model checkpoint to training/checkpoint-1500\n",
            "Configuration saved in training/checkpoint-1500/config.json\n"
          ]
        },
        {
          "name": "stdout",
          "output_type": "stream",
          "text": [
            "{'eval_loss': 0.43212178349494934, 'eval_accuracy': 0.8380566801619433, 'eval_f1_score': 0.840893097318563, 'eval_runtime': 17.1964, 'eval_samples_per_second': 71.818, 'eval_steps_per_second': 1.163, 'epoch': 9.68}\n"
          ]
        },
        {
          "name": "stderr",
          "output_type": "stream",
          "text": [
            "Model weights saved in training/checkpoint-1500/pytorch_model.bin\n",
            "/var/folders/b1/0fd1b6hs7lz0fm_mh346lybm0000gn/T/ipykernel_90568/283397799.py:7: UserWarning: To copy construct from a tensor, it is recommended to use sourceTensor.clone().detach() or sourceTensor.clone().detach().requires_grad_(True), rather than torch.tensor(sourceTensor).\n",
            "  item = {key: torch.tensor(val[idx]) for key, val in self.encodings.items()}\n",
            "***** Running Evaluation *****\n",
            "  Num examples = 1235\n",
            "  Batch size = 64\n"
          ]
        },
        {
          "name": "stdout",
          "output_type": "stream",
          "text": [
            "{'loss': 0.2737, 'learning_rate': 0.0, 'epoch': 10.0}\n"
          ]
        },
        {
          "data": {
            "application/vnd.jupyter.widget-view+json": {
              "model_id": "3a954f445d894826967ea1494736c4dc",
              "version_major": 2,
              "version_minor": 0
            },
            "text/plain": [
              "  0%|          | 0/20 [00:00<?, ?it/s]"
            ]
          },
          "metadata": {},
          "output_type": "display_data"
        },
        {
          "name": "stderr",
          "output_type": "stream",
          "text": [
            "\n",
            "\n",
            "Training completed. Do not forget to share your model on huggingface.co/models =)\n",
            "\n",
            "\n",
            "Loading best model from training/checkpoint-1500 (score: 0.43212178349494934).\n",
            "Saving model checkpoint to training\n",
            "Configuration saved in training/config.json\n"
          ]
        },
        {
          "name": "stdout",
          "output_type": "stream",
          "text": [
            "{'eval_loss': 0.4336535632610321, 'eval_accuracy': 0.8380566801619433, 'eval_f1_score': 0.8408586216932001, 'eval_runtime': 17.7335, 'eval_samples_per_second': 69.642, 'eval_steps_per_second': 1.128, 'epoch': 10.0}\n",
            "{'train_runtime': 5585.0892, 'train_samples_per_second': 8.845, 'train_steps_per_second': 0.278, 'train_loss': 0.46979688705936556, 'epoch': 10.0}\n"
          ]
        },
        {
          "name": "stderr",
          "output_type": "stream",
          "text": [
            "Model weights saved in training/pytorch_model.bin\n"
          ]
        }
      ],
      "source": [
        "model = DistilBertForSequenceClassification.from_pretrained(\"distilbert-base-uncased\",num_labels=3, dropout=0.5, attention_dropout=0.5)\n",
        "\n",
        "trainer = Trainer(\n",
        "    model=model,# the instantiated Transformers model to be trained\n",
        "    args=training_args, # training arguments, defined above\n",
        "    train_dataset=train_dataset,# training dataset\n",
        "    eval_dataset=val_dataset , # evaluation dataset\n",
        "    compute_metrics=compute_metrics,\n",
        ")\n",
        "\n",
        "trainer.train()\n",
        "trainer.save_model()"
      ]
    },
    {
      "cell_type": "markdown",
      "metadata": {
        "id": "ed1BdwexbOFC"
      },
      "source": [
        "#Evaluation of the model"
      ]
    },
    {
      "cell_type": "code",
      "execution_count": 49,
      "metadata": {
        "colab": {
          "base_uri": "https://localhost:8080/",
          "height": 265
        },
        "id": "R_GCWpn6BHb7",
        "outputId": "e6caa6e4-27a5-42d7-ebd8-579ef449c295"
      },
      "outputs": [
        {
          "name": "stderr",
          "output_type": "stream",
          "text": [
            "***** Running Evaluation *****\n",
            "  Num examples = 1235\n",
            "  Batch size = 64\n",
            "/var/folders/b1/0fd1b6hs7lz0fm_mh346lybm0000gn/T/ipykernel_90568/283397799.py:7: UserWarning: To copy construct from a tensor, it is recommended to use sourceTensor.clone().detach() or sourceTensor.clone().detach().requires_grad_(True), rather than torch.tensor(sourceTensor).\n",
            "  item = {key: torch.tensor(val[idx]) for key, val in self.encodings.items()}\n"
          ]
        },
        {
          "data": {
            "application/vnd.jupyter.widget-view+json": {
              "model_id": "6934dca8891040b7ac4f4cbabd505d1d",
              "version_major": 2,
              "version_minor": 0
            },
            "text/plain": [
              "  0%|          | 0/20 [00:00<?, ?it/s]"
            ]
          },
          "metadata": {},
          "output_type": "display_data"
        },
        {
          "data": {
            "text/plain": [
              "{'eval_loss': 0.43212178349494934,\n",
              " 'eval_accuracy': 0.8380566801619433,\n",
              " 'eval_f1_score': 0.840893097318563,\n",
              " 'eval_runtime': 17.8042,\n",
              " 'eval_samples_per_second': 69.366,\n",
              " 'eval_steps_per_second': 1.123,\n",
              " 'epoch': 10.0}"
            ]
          },
          "execution_count": 49,
          "metadata": {},
          "output_type": "execute_result"
        }
      ],
      "source": [
        "import numpy as np\n",
        "trainer.evaluate()"
      ]
    },
    {
      "cell_type": "markdown",
      "metadata": {
        "id": "wMAboU3ebX8n"
      },
      "source": [
        "# Visualiaztion "
      ]
    },
    {
      "cell_type": "code",
      "execution_count": 50,
      "metadata": {
        "id": "XNBmDzU-LPe8"
      },
      "outputs": [],
      "source": [
        "import json\n",
        "\n",
        "with open('training/checkpoint-1000/trainer_state.json', 'r') as f:\n",
        "    train_data = json.load(f)['log_history']"
      ]
    },
    {
      "cell_type": "code",
      "execution_count": 51,
      "metadata": {
        "id": "xl0gADZiMJ_5"
      },
      "outputs": [],
      "source": [
        "training_loss = {}\n",
        "validation_loss = {}\n",
        "validation_acc = {}\n",
        "for idx, data in enumerate(train_data):\n",
        "    if idx%2==0:\n",
        "        training_loss[data['step']] = data['loss']\n",
        "    else:\n",
        "        validation_loss[data['step']] = data['eval_loss']\n",
        "        validation_acc[data['step']] = data['eval_accuracy']"
      ]
    },
    {
      "cell_type": "code",
      "execution_count": 52,
      "metadata": {
        "colab": {
          "base_uri": "https://localhost:8080/",
          "height": 312
        },
        "id": "zxECqXfIMydK",
        "outputId": "579a2d73-acd5-4969-dd4b-3950a8dbe4d7"
      },
      "outputs": [
        {
          "data": {
            "text/plain": [
              "Text(0.5, 0, 'Steps')"
            ]
          },
          "execution_count": 52,
          "metadata": {},
          "output_type": "execute_result"
        },
        {
          "data": {
            "image/png": "[encoded data removed]",
            "text/plain": [
              "<Figure size 640x480 with 1 Axes>"
            ]
          },
          "metadata": {},
          "output_type": "display_data"
        }
      ],
      "source": [
        "import matplotlib.pyplot as plt\n",
        "\n",
        "plt.plot(list(training_loss.keys()), list(training_loss.values()))\n",
        "plt.title(\"Training Loss and Accuracy of DistilBert Model\")\n",
        "plt.xlabel(\"Steps\")"
      ]
    },
    {
      "cell_type": "code",
      "execution_count": null,
      "metadata": {
        "colab": {
          "base_uri": "https://localhost:8080/",
          "height": 312
        },
        "id": "8JlfqBviPNwS",
        "outputId": "29e1ca9b-30f1-437d-f7ec-26c89ef3f9f6"
      },
      "outputs": [
        {
          "data": {
            "text/plain": [
              "Text(0.5, 0, 'Steps')"
            ]
          },
          "execution_count": 87,
          "metadata": {},
          "output_type": "execute_result"
        },
        {
          "data": {
            "image/png": "[encoded data removed]",
            "text/plain": [
              "<Figure size 432x288 with 1 Axes>"
            ]
          },
          "metadata": {
            "needs_background": "light"
          },
          "output_type": "display_data"
        }
      ],
      "source": [
        "import matplotlib.pyplot as plt\n",
        "\n",
        "plt.plot(list(validation_loss.keys()), list(validation_loss.values()))\n",
        "plt.plot(list(validation_acc.keys()), list(validation_acc.values()))\n",
        "plt.title(\"Validation Loss and Accuracy of DistilBert Model\")\n",
        "plt.xlabel('Steps')"
      ]
    },
    {
      "cell_type": "markdown",
      "metadata": {
        "id": "ULuElgx_cAZh"
      },
      "source": [
        "# Testing the model"
      ]
    },
    {
      "cell_type": "code",
      "execution_count": 56,
      "metadata": {
        "id": "P-niD2qnTjNf"
      },
      "outputs": [],
      "source": [
        "tokenizer = DistilBertTokenizerFast.from_pretrained('distilbert-base-uncased',num_labels=3)\n",
        "model= DistilBertForSequenceClassification.from_pretrained('training')\n",
        "clear_output()"
      ]
    },
    {
      "cell_type": "markdown",
      "metadata": {
        "id": "6E3l9t1WdUA8"
      },
      "source": [
        "Creating a pipeline for the sentimen analysis "
      ]
    },
    {
      "cell_type": "code",
      "execution_count": 57,
      "metadata": {
        "id": "iwuRPQVcT9vD"
      },
      "outputs": [],
      "source": [
        "sentiment = pipeline(\"sentiment-analysis\", model=model, tokenizer=tokenizer)"
      ]
    },
    {
      "cell_type": "code",
      "execution_count": null,
      "metadata": {},
      "outputs": [],
      "source": []
    },
    {
      "cell_type": "markdown",
      "metadata": {
        "id": "_m9vgYyPc3dp"
      },
      "source": [
        "Enter desired sentence to test\n",
        "\n",
        "\n",
        "*   LABEL_0: NEGATIVE\n",
        "*   LABEL_1: NEUTRAL\n",
        "*   LABEL_2: POSITIVE\n",
        "\n"
      ]
    },
    {
      "cell_type": "code",
      "execution_count": 58,
      "metadata": {
        "colab": {
          "base_uri": "https://localhost:8080/"
        },
        "id": "_9YFAbdwUFQR",
        "outputId": "bf2c7808-41cf-4ccb-928d-db27e58fed5a"
      },
      "outputs": [
        {
          "name": "stdout",
          "output_type": "stream",
          "text": [
            "LABEL_0\n",
            "LABEL_1\n",
            "LABEL_2\n"
          ]
        }
      ],
      "source": [
        "print(sentiment('Samsung\\'s stock went down by 20%')[0]['label'])\n",
        "print(sentiment('Samsung\\'s is a company')[0]['label'])\n",
        "print(sentiment('Samsung\\'s stock went up by 20%')[0]['label'])"
      ]
    },
    {
      "cell_type": "code",
      "execution_count": 1,
      "metadata": {},
      "outputs": [],
      "source": []
    },
    {
      "cell_type": "code",
      "execution_count": 2,
      "metadata": {},
      "outputs": [],
      "source": []
    },
    {
      "cell_type": "code",
      "execution_count": 3,
      "metadata": {},
      "outputs": [],
      "source": []
    },
    {
      "cell_type": "code",
      "execution_count": 4,
      "metadata": {},
      "outputs": [],
      "source": []
    },
    {
      "cell_type": "code",
      "execution_count": 5,
      "metadata": {},
      "outputs": [
        {
          "name": "stderr",
          "output_type": "stream",
          "text": [
            "2022-11-02 02:27:18.237 \n",
            "  \u001b[33m\u001b[1mWarning:\u001b[0m to view this Streamlit app on a browser, run it with the following\n",
            "  command:\n",
            "\n",
            "    streamlit run /Users/bytedance/Library/Python/3.9/lib/python/site-packages/ipykernel_launcher.py [ARGUMENTS]\n"
          ]
        }
      ],
      "source": [
        "# default_text = \"Samsung has made 200% profit, earning $50M this year.\"\n"
      ]
    },
    {
      "cell_type": "code",
      "execution_count": 8,
      "metadata": {},
      "outputs": [
        {
          "name": "stdout",
          "output_type": "stream",
          "text": [
            "\u001b[0m\n",
            "\u001b[34m\u001b[1m  You can now view your Streamlit app in your browser.\u001b[0m\n",
            "\u001b[0m\n",
            "\u001b[34m  Local URL: \u001b[0m\u001b[1mhttp://localhost:8501\u001b[0m\n",
            "\u001b[34m  Network URL: \u001b[0m\u001b[1mhttp://10.81.28.9:8501\u001b[0m\n",
            "\u001b[0m\n",
            "2022-11-02 02:28:42.718 Uncaught app exception\n",
            "Traceback (most recent call last):\n",
            "  File \"/opt/homebrew/lib/python3.10/site-packages/streamlit/runtime/scriptrunner/script_runner.py\", line 562, in _run_script\n",
            "    exec(code, module.__dict__)\n",
            "  File \"/Users/bytedance/Library/Python/3.9/lib/python/site-packages/ipykernel_launcher.py\", line 15, in <module>\n",
            "    from ipykernel import kernelapp as app\n",
            "  File \"/Users/bytedance/Library/Python/3.9/lib/python/site-packages/ipykernel/__init__.py\", line 5, in <module>\n",
            "    from .connect import *  # noqa\n",
            "  File \"/Users/bytedance/Library/Python/3.9/lib/python/site-packages/ipykernel/connect.py\", line 11, in <module>\n",
            "    import jupyter_client\n",
            "  File \"/Users/bytedance/Library/Python/3.9/lib/python/site-packages/jupyter_client/__init__.py\", line 8, in <module>\n",
            "    from .asynchronous import AsyncKernelClient  # noqa\n",
            "  File \"/Users/bytedance/Library/Python/3.9/lib/python/site-packages/jupyter_client/asynchronous/__init__.py\", line 1, in <module>\n",
            "    from .client import AsyncKernelClient  # noqa\n",
            "  File \"/Users/bytedance/Library/Python/3.9/lib/python/site-packages/jupyter_client/asynchronous/client.py\", line 6, in <module>\n",
            "    from jupyter_client.channels import HBChannel\n",
            "  File \"/Users/bytedance/Library/Python/3.9/lib/python/site-packages/jupyter_client/channels.py\", line 12, in <module>\n",
            "    import zmq.asyncio\n",
            "  File \"/Users/bytedance/Library/Python/3.9/lib/python/site-packages/zmq/__init__.py\", line 103, in <module>\n",
            "    from zmq import backend\n",
            "  File \"/Users/bytedance/Library/Python/3.9/lib/python/site-packages/zmq/backend/__init__.py\", line 31, in <module>\n",
            "    raise original_error from None\n",
            "  File \"/Users/bytedance/Library/Python/3.9/lib/python/site-packages/zmq/backend/__init__.py\", line 26, in <module>\n",
            "    _ns = select_backend(first)\n",
            "  File \"/Users/bytedance/Library/Python/3.9/lib/python/site-packages/zmq/backend/select.py\", line 31, in select_backend\n",
            "    mod = import_module(name)\n",
            "  File \"/opt/homebrew/Cellar/python@3.10/3.10.8/Frameworks/Python.framework/Versions/3.10/lib/python3.10/importlib/__init__.py\", line 126, in import_module\n",
            "    return _bootstrap._gcd_import(name[level:], package, level)\n",
            "  File \"/Users/bytedance/Library/Python/3.9/lib/python/site-packages/zmq/backend/cython/__init__.py\", line 6, in <module>\n",
            "    from . import (\n",
            "ImportError: cannot import name '_device' from partially initialized module 'zmq.backend.cython' (most likely due to a circular import) (/Users/bytedance/Library/Python/3.9/lib/python/site-packages/zmq/backend/cython/__init__.py)\n",
            "^C\n",
            "\u001b[34m  Stopping...\u001b[0m\n"
          ]
        }
      ],
      "source": [
        "!streamlit run /Users/bytedance/Library/Python/3.9/lib/python/site-packages/ipykernel_launcher.py"
      ]
    },
    {
      "cell_type": "code",
      "execution_count": null,
      "metadata": {},
      "outputs": [],
      "source": []
    }
  ],
  "metadata": {
    "accelerator": "GPU",
    "colab": {
      "collapsed_sections": [],
      "machine_shape": "hm",
      "provenance": []
    },
    "kernelspec": {
      "display_name": "Python 3.9.6 64-bit",
      "language": "python",
      "name": "python3"
    },
    "language_info": {
      "codemirror_mode": {
        "name": "ipython",
        "version": 3
      },
      "file_extension": ".py",
      "mimetype": "text/x-python",
      "name": "python",
      "nbconvert_exporter": "python",
      "pygments_lexer": "ipython3",
      "version": "3.9.6"
    },
    "vscode": {
      "interpreter": {
        "hash": "31f2aee4e71d21fbe5cf8b01ff0e069b9275f58929596ceb00d14d90e3e16cd6"
      }
    }
  },
  "nbformat": 4,
  "nbformat_minor": 0
}
